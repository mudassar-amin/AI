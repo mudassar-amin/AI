{
 "cells": [
  {
   "cell_type": "code",
   "execution_count": 25,
   "metadata": {},
   "outputs": [],
   "source": [
    "import numpy as np\n",
    "import random\n",
    "import matplotlib.pyplot as plt\n"
   ]
  },
  {
   "cell_type": "code",
   "execution_count": 26,
   "metadata": {},
   "outputs": [],
   "source": [
    "grid_size = (10, 10)\n",
    "rewards = np.zeros(grid_size)\n",
    "rewards[0, 8] = -500\n",
    "rewards[8, 6] = -100\n",
    "rewards[5, 9] = 1000\n",
    "illegal_positions = {(1, 2), (2, 2), (3, 2), (4, 2), (3, 6), (4, 6), (5, 6), (6, 6), (5, 7), (6, 7)}\n",
    "terminal_pos = {(5, 9)}"
   ]
  },
  {
   "cell_type": "code",
   "execution_count": 27,
   "metadata": {},
   "outputs": [],
   "source": [
    "num_states = np.prod(grid_size)\n",
    "num_actions = 5  # Add a \"Wait\" action\n",
    "Q_shared = np.random.rand(num_states, num_actions)"
   ]
  },
  {
   "cell_type": "code",
   "execution_count": 28,
   "metadata": {},
   "outputs": [],
   "source": [
    "learning_rate = 0.1\n",
    "discount = 0.9\n",
    "epochs = 3000\n",
    "convergence_threshold = 1e-6"
   ]
  },
  {
   "cell_type": "code",
   "execution_count": 29,
   "metadata": {},
   "outputs": [],
   "source": [
    "sartingposition = [(0, i) for i in range(2)] + [(9, i) for i in range(2)]\n",
    "error_rates = []\n",
    "convergence_time = None\n",
    "Qvalues_episodes = []"
   ]
  },
  {
   "cell_type": "code",
   "execution_count": 30,
   "metadata": {},
   "outputs": [],
   "source": [
    "f2_house = 0.35\n",
    "epsilon = 0.01  \n",
    "Qvalues_episodes = []"
   ]
  },
  {
   "cell_type": "code",
   "execution_count": 31,
   "metadata": {},
   "outputs": [],
   "source": [
    "episodes_to_catch_robber = []\n"
   ]
  },
  {
   "cell_type": "code",
   "execution_count": 32,
   "metadata": {},
   "outputs": [],
   "source": [
    "for epoch in range(epochs):\n",
    "    start_pos = random.choice(sartingposition)\n",
    "    start_pos2 = random.choice(sartingposition)\n",
    "    hunter_pos = start_pos\n",
    "    asist_pos = start_pos2\n",
    "    robber_position = (5, 9)  \n",
    "    Qvalues_episodes.append(np.copy(Q_shared))\n",
    "    \n",
    "    total_reward = 0\n",
    "\n",
    "    while hunter_pos not in terminal_pos or asist_pos not in terminal_pos:\n",
    "\n",
    "        robber_position = (8, 6)  \n",
    "        if hunter_pos == robber_position or asist_pos == robber_position:\n",
    "            total_reward += 1000  \n",
    "            break\n",
    "\n",
    "        if hunter_pos == robber_position or asist_pos == robber_position:\n",
    "           episodes_to_catch_robber.append(epochs)\n",
    "           print(f\"Robber caught in episode {epochs}\")\n",
    "           break\n",
    "\n",
    "        \n",
    "        current_q_index1 = hunter_pos[0] * grid_size[1] + hunter_pos[1]\n",
    "        current_q_index2 = asist_pos[0] * grid_size[1] + asist_pos[1]\n",
    "\n",
    "        \n",
    "        if random.random() < epsilon:\n",
    "            move_hunter = random.choice(range(5))  # Choose a random action\n",
    "            move_assist = random.choice(range(5))\n",
    "        else:\n",
    "            move_hunter = np.argmax(Q_shared[current_q_index1])  \n",
    "            move_assist = np.argmax(Q_shared[current_q_index2])\n",
    "        \n",
    "        actions = [(0, -1), (-1, 0), (1, 0), (0, 1), (0, 0)]  \n",
    "        new_poshunter = (hunter_pos[0] + actions[move_hunter][0], hunter_pos[1] + actions[move_hunter][1])\n",
    "\n",
    "        \n",
    "        if (\n",
    "            new_poshunter[0] < 0 or new_poshunter[0] >= grid_size[0] or\n",
    "            new_poshunter[1] < 0 or new_poshunter[1] >= grid_size[1] or\n",
    "            new_poshunter in illegal_positions\n",
    "        ):\n",
    "            new_poshunter = hunter_pos\n",
    "\n",
    "        new_pos_assistant = (asist_pos[0] + actions[move_assist][0], asist_pos[1] + actions[move_assist][1])\n",
    "\n",
    "        \n",
    "        if (\n",
    "            new_pos_assistant[0] < 0 or new_pos_assistant[0] >= grid_size[0] or\n",
    "            new_pos_assistant[1] < 0 or new_pos_assistant[1] >= grid_size[1] or\n",
    "            new_pos_assistant in illegal_positions\n",
    "        ):\n",
    "            new_pos_assistant = asist_pos\n",
    "\n",
    "        \n",
    "        Q_values1 = Q_shared[current_q_index1][move_hunter]\n",
    "        Q_values2 = Q_shared[current_q_index2][move_assist]\n",
    "\n",
    "        \n",
    "        if random.random() < f2_house:\n",
    "            \n",
    "            robber_position = (5, 2)\n",
    "        else:\n",
    "           \n",
    "            possible_moves = [\n",
    "                (robber_position[0] - 1, robber_position[1]),\n",
    "                (robber_position[0], robber_position[1] - 1),\n",
    "                (robber_position[0] + 1, robber_position[1]),\n",
    "                (robber_position[0], robber_position[1] + 1),\n",
    "            ]\n",
    "            possible_moves = [\n",
    "                move\n",
    "                for move in possible_moves\n",
    "                if (\n",
    "                    move[0] >= 0\n",
    "                    and move[0] < grid_size[0]\n",
    "                    and move[1] >= 0\n",
    "                    and move[1] < grid_size[1]\n",
    "                    and move not in illegal_positions\n",
    "                )\n",
    "            ]\n",
    "            \n",
    "            robber_position = random.choice(possible_moves)\n",
    "\n",
    "        \n",
    "        if hunter_pos == robber_position:\n",
    "            break\n",
    "\n",
    "        if asist_pos == robber_position:\n",
    "            break\n",
    "\n",
    "        \n",
    "        new_state_reward1 = rewards[new_poshunter[0], new_poshunter[1]]\n",
    "        new_state_reward2 = rewards[new_pos_assistant[0], new_pos_assistant[1]]\n",
    "\n",
    "        \n",
    "        Q_shared[current_q_index1][move_hunter] += learning_rate * (\n",
    "            new_state_reward1\n",
    "            + discount * np.max(Q_shared[new_poshunter[0] * grid_size[1] + new_poshunter[1]])\n",
    "            - Q_values1\n",
    "        )\n",
    "\n",
    "        Q_shared[current_q_index2][move_assist] += learning_rate * (\n",
    "            new_state_reward2\n",
    "            + discount * np.max(Q_shared[new_pos_assistant[0] * grid_size[1] + new_pos_assistant[1]])\n",
    "            - Q_values2\n",
    "        )\n",
    "\n",
    "        \n",
    "        hunter_pos = new_poshunter\n",
    "        asist_pos = new_pos_assistant\n",
    "\n",
    "    Qvalues_episodes.append(Q_shared[current_q_index1])\n",
    "\n",
    "    if epoch > 0:\n",
    "        \n",
    "        error_rate = np.mean(np.abs(Q_shared - Q_shared_old))\n",
    "        error_rates.append(error_rate)\n",
    "\n",
    "        if error_rate < convergence_threshold and convergence_time is None:\n",
    "            convergence_time = epoch\n",
    "\n",
    "    Q_shared_old = np.copy(Q_shared)"
   ]
  },
  {
   "cell_type": "code",
   "execution_count": 33,
   "metadata": {},
   "outputs": [
    {
     "name": "stdout",
     "output_type": "stream",
     "text": [
      "The robber got away.\n"
     ]
    }
   ],
   "source": [
    "if hunter_pos == robber_position or asist_pos == robber_position:\n",
    "    print(\"The robber has been caught!\")\n",
    "else:\n",
    "    print(\"The robber got away.\")"
   ]
  },
  {
   "cell_type": "code",
   "execution_count": 34,
   "metadata": {},
   "outputs": [
    {
     "data": {
      "image/png": "[encoded data removed]",
      "text/plain": [
       "<Figure size 640x480 with 1 Axes>"
      ]
     },
     "metadata": {},
     "output_type": "display_data"
    }
   ],
   "source": [
    "plt.plot(error_rates, color='green', linestyle='-', label='Cooperative Hunt')\n",
    "plt.title(\"Evolvement of Error Rate\")\n",
    "plt.xlabel(\"Epochs\")\n",
    "plt.ylabel(\"Error Rate\")\n",
    "\n",
    "if convergence_time is not None:\n",
    "    plt.axvline(x=convergence_time, color='red', linestyle='--', label=f'Convergence at Epoch {convergence_time}')\n",
    "plt.legend()\n",
    "plt.show()\n"
   ]
  }
 ],
 "metadata": {
  "kernelspec": {
   "display_name": "Python 3",
   "language": "python",
   "name": "python3"
  },
  "language_info": {
   "codemirror_mode": {
    "name": "ipython",
    "version": 3
   },
   "file_extension": ".py",
   "mimetype": "text/x-python",
   "name": "python",
   "nbconvert_exporter": "python",
   "pygments_lexer": "ipython3",
   "version": "3.10.8"
  }
 },
 "nbformat": 4,
 "nbformat_minor": 2
}
